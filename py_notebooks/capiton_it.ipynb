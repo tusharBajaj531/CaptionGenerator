{
 "cells": [
  {
   "cell_type": "code",
   "execution_count": 1,
   "id": "53d1f968-6c36-4e1c-8366-d56ce3c9096c",
   "metadata": {},
   "outputs": [],
   "source": [
    "import pandas as pd\n",
    "import numpy as np\n",
    "import matplotlib.pyplot as plt\n",
    "import keras\n",
    "import json\n",
    "import pickle\n",
    "from keras.applications.vgg16 import VGG16\n",
    "from tensorflow.keras.applications.resnet50 import ResNet50, preprocess_input, decode_predictions\n",
    "from keras.preprocessing import image\n",
    "from keras.models import Model, load_model\n",
    "from keras.preprocessing.sequence import pad_sequences\n",
    "from tensorflow.keras.utils import to_categorical\n",
    "from keras.layers import Input, Dense, Dropout, Embedding, LSTM\n",
    "from keras.layers.merge import add"
   ]
  },
  {
   "cell_type": "code",
   "execution_count": 4,
   "id": "43c413ce-5e57-4d52-9915-a56ecddf6129",
   "metadata": {},
   "outputs": [],
   "source": [
    "model = load_model(\"model_weights/model_19.h5\")    "
   ]
  },
  {
   "cell_type": "code",
   "execution_count": 5,
   "id": "f0728cd2-3fef-4f23-89dc-5273a9c09b6e",
   "metadata": {},
   "outputs": [],
   "source": [
    "model_temp = ResNet50(weights=\"imagenet\",input_shape=(224,224,3))"
   ]
  },
  {
   "cell_type": "code",
   "execution_count": 6,
   "id": "468c27e8-0275-4cb8-a142-7e5287c2bc62",
   "metadata": {},
   "outputs": [],
   "source": [
    "model_resnet = Model(model_temp.input,model_temp.layers[-2].output)"
   ]
  },
  {
   "cell_type": "code",
   "execution_count": 7,
   "id": "b1b7c8d5-d5a2-4b48-8dc5-8817bb0aad67",
   "metadata": {},
   "outputs": [],
   "source": [
    "def preprocessing_img(img):\n",
    "    img = image.load_img(img,target_size=(224,224))\n",
    "    img = image.img_to_array(img)\n",
    "    img = np.expand_dims(img,axis=0)\n",
    "    #Normalisation\n",
    "    img = preprocess_input(img)\n",
    "    return img"
   ]
  },
  {
   "cell_type": "code",
   "execution_count": 13,
   "id": "54c73a03-ca07-4ff5-823e-00590fb27ea3",
   "metadata": {},
   "outputs": [],
   "source": [
    "def encode_image(img):\n",
    "    img = preprocessing_img(img)\n",
    "    feature_vector = model_resnet.predict(img)\n",
    "    feature_vector = feature_vector.reshape(1,2048)\n",
    "#     print(feature_vector.shape)\n",
    "    return feature_vector"
   ]
  },
  {
   "cell_type": "code",
   "execution_count": 14,
   "id": "342ad94f-5af6-445e-aa9b-306e088c9f1b",
   "metadata": {},
   "outputs": [],
   "source": [
    "enc = encode_image(\"photo.jpg\")"
   ]
  },
  {
   "cell_type": "code",
   "execution_count": 15,
   "id": "912fb7c7-8377-4cd7-81db-4cf8a1981cd2",
   "metadata": {},
   "outputs": [
    {
     "data": {
      "text/plain": [
       "(1, 2048)"
      ]
     },
     "execution_count": 15,
     "metadata": {},
     "output_type": "execute_result"
    }
   ],
   "source": [
    "enc.shape"
   ]
  },
  {
   "cell_type": "code",
   "execution_count": 18,
   "id": "e93829d5-5fda-4301-ad2b-a57a6e999e8d",
   "metadata": {},
   "outputs": [],
   "source": [
    "max_len = 35"
   ]
  },
  {
   "cell_type": "code",
   "execution_count": 25,
   "id": "1f4ef829-3f0e-4279-85bd-1bf0af15311a",
   "metadata": {},
   "outputs": [],
   "source": [
    "with open(\"saved/word_to_idx.pkl\",\"rb\") as f:\n",
    "    word_to_idx = pickle.load(f)\n",
    "\n",
    "with open(\"saved/idx_to_word.pkl\",\"rb\") as f:\n",
    "    idx_to_word = pickle.load(f)"
   ]
  },
  {
   "cell_type": "code",
   "execution_count": 26,
   "id": "4de3e63f-cc2c-45cb-ad6d-9311bab27296",
   "metadata": {},
   "outputs": [],
   "source": [
    "def predict_caption(photo):\n",
    "    \n",
    "    in_text = \"startseq\"\n",
    "    for i in range(max_len):\n",
    "        sequence = [word_to_idx[w] for w in in_text.split() if w in word_to_idx]\n",
    "        sequence = pad_sequences([sequence],maxlen=max_len,padding='post')\n",
    "        \n",
    "        ypred = model.predict([photo,sequence])\n",
    "        ypred = ypred.argmax() #WOrd with max prob always - Greedy Sampling\n",
    "        word = idx_to_word[ypred]\n",
    "        in_text += (' ' + word)\n",
    "        \n",
    "        if word == \"endseq\":\n",
    "            break\n",
    "    \n",
    "    final_caption = in_text.split()[1:-1]\n",
    "    final_caption = ' '.join(final_caption)\n",
    "    return final_caption"
   ]
  },
  {
   "cell_type": "code",
   "execution_count": 28,
   "id": "f6a85314-831a-4a00-9184-940599e1657d",
   "metadata": {},
   "outputs": [
    {
     "data": {
      "text/plain": [
       "'young girl with nose hair and jean shirt tied'"
      ]
     },
     "execution_count": 28,
     "metadata": {},
     "output_type": "execute_result"
    }
   ],
   "source": [
    "predict_caption(enc)"
   ]
  },
  {
   "cell_type": "code",
   "execution_count": null,
   "id": "dbf73afb-0342-4942-9b07-ee6b2d4addab",
   "metadata": {},
   "outputs": [],
   "source": []
  }
 ],
 "metadata": {
  "kernelspec": {
   "display_name": "Python 3",
   "language": "python",
   "name": "python3"
  },
  "language_info": {
   "codemirror_mode": {
    "name": "ipython",
    "version": 3
   },
   "file_extension": ".py",
   "mimetype": "text/x-python",
   "name": "python",
   "nbconvert_exporter": "python",
   "pygments_lexer": "ipython3",
   "version": "3.8.8"
  }
 },
 "nbformat": 4,
 "nbformat_minor": 5
}
